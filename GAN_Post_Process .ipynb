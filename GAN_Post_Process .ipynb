{
  "cells": [
    {
      "cell_type": "markdown",
      "metadata": {
        "id": "lzsdNhLAWUXY"
      },
      "source": [
        "# **connect** **to** **drive**\n"
      ]
    },
    {
      "cell_type": "code",
      "execution_count": null,
      "metadata": {
        "id": "jw1CghzeQQpz"
      },
      "outputs": [],
      "source": [
        "from google.colab import drive\n",
        "drive.mount('/content/drive')"
      ]
    },
    {
      "cell_type": "markdown",
      "metadata": {
        "id": "OUCckCRcHEMf"
      },
      "source": [
        "# Filter test"
      ]
    },
    {
      "cell_type": "code",
      "execution_count": null,
      "metadata": {
        "id": "xncU_SMaQqGR"
      },
      "outputs": [],
      "source": [
        "import cv2\n",
        "import matplotlib.pyplot as plt\n",
        "\n",
        "image = cv2.imread(image_road)\n",
        "\n",
        "image_rgb = cv2.cvtColor(image, cv2.COLOR_BGR2RGB)\n",
        "\n",
        "g_image = cv2.GaussianBlur(image_rgb, (31, 31), 0)\n",
        "b_image = cv2.bilateralFilter(image_rgb, d=20, sigmaColor=80, sigmaSpace=400)\n",
        "\n",
        "fig, axs = plt.subplots(1, 3, figsize=(15, 10))\n",
        "\n",
        "axs[0].imshow(image_rgb)\n",
        "axs[0].set_title('REAL')\n",
        "axs[1].imshow(g_image)\n",
        "axs[1].set_title('guass')\n",
        "axs[2].imshow(b_image)\n",
        "axs[2].set_title('bilateral')\n",
        "#plt.tight_layout()\n",
        "plt.show()\n"
      ]
    },
    {
      "cell_type": "markdown",
      "metadata": {
        "id": "GWcDSC6m-EBn"
      },
      "source": [
        "# Dense CRF"
      ]
    },
    {
      "cell_type": "code",
      "execution_count": null,
      "metadata": {
        "collapsed": true,
        "id": "Rtsalr-Mt8YE"
      },
      "outputs": [],
      "source": [
        "pip install git+https://github.com/lucasb-eyer/pydensecrf.git"
      ]
    },
    {
      "cell_type": "code",
      "execution_count": null,
      "metadata": {
        "collapsed": true,
        "id": "Jtwn6ZYwDaWm"
      },
      "outputs": [],
      "source": [
        "pip install torch torchvision\n"
      ]
    },
    {
      "cell_type": "code",
      "execution_count": null,
      "metadata": {
        "id": "mgIyLqZXQexf"
      },
      "outputs": [],
      "source": [
        "import os\n",
        "import cv2\n",
        "\n",
        "image_path1 = '/content/drive/My Drive/Colab Notebooks/dense/gan_generated.png'\n",
        "image_path2 = '/content/drive/My Drive/Colab Notebooks/Clean/Abyek05.png'\n",
        "image_path3 = '/content/drive/My Drive/Colab Notebooks/Real/Abyek05.jpg'\n",
        "\n",
        "\n",
        "\n",
        "image_process = cv2.imread(image_path1)\n",
        "image_mask= cv2.imread(image_path2)\n",
        "image_grb = cv2.imread(image_path3)\n",
        "image_real = cv2.cvtColor(image_road, cv2.COLOR_BGR2RGB)\n",
        "\n",
        "\n",
        "if image_real.shape[:2] != image_process.shape[:2]:\n",
        "    image_process = cv2.resize(image_process, (image_real.shape[1], image_real.shape[0]), interpolation=cv2.INTER_NEAREST)\n",
        "\n",
        "\n",
        "# Check if the file exists\n",
        "if os.path.exists(image_path1) and os.path.exists(image_path2) and os.path.exists(image_path3) :\n",
        "    print(\"File exists\")\n",
        "else:\n",
        "    print(\"File not found\")\n"
      ]
    },
    {
      "cell_type": "code",
      "execution_count": null,
      "metadata": {
        "id": "cf_Es1_rsH8P"
      },
      "outputs": [],
      "source": [
        "import cv2\n",
        "import matplotlib.pyplot as plt\n",
        "from pydensecrf.utils import unary_from_labels, create_pairwise_bilateral, create_pairwise_gaussian\n",
        "import numpy as np\n",
        "from skimage.color import gray2rgb\n",
        "from skimage.color import rgb2gray\n",
        "import matplotlib.pyplot as plt\n",
        "from osgeo import gdal\n",
        "import pydensecrf.densecrf as dcrf\n",
        "\n",
        "%matplotlib inline\n",
        "\n",
        "image_path = \"/content/drive/My Drive/Colab Notebooks/OpenCV/normal.png\"\n",
        "image=\n",
        "\n",
        "def crf(original_image, annotated_image,output_image, use_2d = True):\n",
        "\n",
        "    if(len(annotated_image.shape)<3):\n",
        "        annotated_image = gray2rgb(annotated_image).astype(np.uint32)\n",
        "\n",
        "    cv2.imwrite(\"testing2.png\",annotated_image)\n",
        "    annotated_image = annotated_image.astype(np.uint32)\n",
        "    annotated_label = annotated_image[:,:,0].astype(np.uint32) + (annotated_image[:,:,1]<<8).astype(np.uint32) + (annotated_image[:,:,2]<<16).astype(np.uint32)\n",
        "\n",
        "    colors, labels = np.unique(annotated_label, return_inverse=True)\n",
        "\n",
        "    colorize = np.empty((len(colors), 3), np.uint8)\n",
        "    colorize[:,0] = (colors & 0x0000FF)\n",
        "    colorize[:,1] = (colors & 0x00FF00) >> 8\n",
        "    colorize[:,2] = (colors & 0xFF0000) >> 16\n",
        "\n",
        "    n_labels = len(set(labels.flat))\n",
        "\n",
        "    print(\"No of labels in the Image are \")\n",
        "    print(n_labels)\n",
        "\n",
        "\n",
        "    if use_2d :\n",
        "        d = dcrf.DenseCRF2D(original_image.shape[1], original_image.shape[0], n_labels)\n",
        "\n",
        "        U = unary_from_labels(labels, n_labels, gt_prob=0.90, zero_unsure=False)\n",
        "        d.setUnaryEnergy(U)\n",
        "\n",
        "\n",
        "        d.addPairwiseGaussian(sxy=(40, 15), compat=46, kernel=dcrf.DIAG_KERNEL, #15,15,46\n",
        "                          normalization=dcrf.NORMALIZE_SYMMETRIC)\n",
        "\n",
        "        d.addPairwiseBilateral(sxy=(50, 5), srgb=(1, 1, 1), rgbim=original_image, #40,20\n",
        "                           compat=42, #46\n",
        "                           kernel=dcrf.DIAG_KERNEL,\n",
        "                           normalization=dcrf.NORMALIZE_SYMMETRIC)\n",
        "\n",
        "    Q = d.inference(2) #3\n",
        "\n",
        "    MAP = np.argmax(Q, axis=0)\n",
        "\n",
        "\n",
        "    MAP = colorize[MAP,:]\n",
        "    cv2.imwrite(output_image,MAP.reshape(original_image.shape))\n",
        "    return MAP.reshape(original_image.shape)\n",
        "\n",
        "crfimage = crf(image_real,image_process,\"out.png\")\n",
        "\n",
        "plt.subplots(1, 4, figsize=(20, 10))\n",
        "plt.subplot(1,4,1)\n",
        "plt.imshow(image_real)\n",
        "plt.subplot(1,4,2)\n",
        "plt.imshow(crfimage)\n",
        "plt.subplot(1,4,3)\n",
        "plt.imshow(image_process)\n",
        "plt.subplot(1,4,4)\n",
        "plt.imshow(image_mask)"
      ]
    },
    {
      "cell_type": "markdown",
      "metadata": {
        "id": "bEwhfS0tntAt"
      },
      "source": [
        "# **Inverting Images to NumPy Array**"
      ]
    },
    {
      "cell_type": "code",
      "execution_count": null,
      "metadata": {
        "id": "PUTWexbaHpZO"
      },
      "outputs": [],
      "source": [
        "import os\n",
        "import numpy as np\n",
        "from PIL import Image\n",
        "\n",
        "def load_images_from_folder(folder, image_size=(700, 700)):\n",
        "    images = []\n",
        "    for filename in os.listdir(folder):\n",
        "        img_path = os.path.join(folder, filename)\n",
        "        if img_path.endswith(\".png\") or img_path.endswith(\".jpg\") or img_path.endswith(\".jpeg\"):\n",
        "            img = Image.open(img_path).convert('L')\n",
        "            img = img.resize(image_size)\n",
        "            img_array = np.array(img)\n",
        "            images.append(img_array)\n",
        "    return np.array(images)\n",
        "\n",
        "input_folder = '/content/drive/My Drive/Colab Notebooks/Noisy'\n",
        "target_folder = '/content/drive/My Drive/Colab Notebooks/Clean'\n",
        "\n",
        "input_images = load_images_from_folder(input_folder)\n",
        "target_images = load_images_from_folder(target_folder)\n",
        "\n",
        "np.save('/content/drive/My Drive/Colab Notebooks/Noisy/input_images.npy', input_images)\n",
        "np.save('/content/drive/My Drive/Colab Notebooks/Clean/target_images.npy', target_images)\n",
        "\n",
        "print(f\"Saved {len(input_images)} input images and {len(target_images)} target images as NumPy arrays.\")"
      ]
    },
    {
      "cell_type": "markdown",
      "metadata": {
        "id": "xDjx3JN1sWqy"
      },
      "source": [
        "# **GAN** (**Generative** **Adversarial** **Networks**)"
      ]
    },
    {
      "cell_type": "code",
      "execution_count": null,
      "metadata": {
        "id": "tYG-VEjwEDZw"
      },
      "outputs": [],
      "source": [
        "import torch\n",
        "import torch.nn as nn\n",
        "import torch.optim as optim\n",
        "from torch.utils.data import DataLoader, Dataset\n",
        "import torchvision.transforms as transforms\n",
        "from torchvision.utils import save_image, make_grid\n",
        "import numpy as np\n",
        "import matplotlib.pyplot as plt\n",
        "import os\n",
        "from PIL import Image\n",
        "\n",
        "class NoisyIdealDataset(Dataset):\n",
        "    def __init__(self, noisy_dir, ideal_dir, noisy_ext='png', ideal_ext='png', transform=None):\n",
        "        self.noisy_dir = noisy_dir\n",
        "        self.ideal_dir = ideal_dir\n",
        "        self.noisy_ext = noisy_ext\n",
        "        self.ideal_ext = ideal_ext\n",
        "        self.transform = transform\n",
        "\n",
        "        self.noisy_images = sorted([f for f in os.listdir(noisy_dir) if f.endswith(noisy_ext)])\n",
        "        self.ideal_images = sorted([f for f in os.listdir(ideal_dir) if f.endswith(ideal_ext)])\n",
        "\n",
        "        assert len(self.noisy_images) == len(self.ideal_images), \"Mismatch in number of files\"\n",
        "\n",
        "    def __len__(self):\n",
        "        return len(self.noisy_images)\n",
        "\n",
        "    def __getitem__(self, idx):\n",
        "        noisy_filename = self.noisy_images[idx]\n",
        "        ideal_filename = self.ideal_images[idx]\n",
        "\n",
        "        noisy_path = os.path.join(self.noisy_dir, noisy_filename)\n",
        "        ideal_path = os.path.join(self.ideal_dir, ideal_filename)\n",
        "\n",
        "        noisy_img = Image.open(noisy_path).convert(\"L\")\n",
        "        ideal_img = Image.open(ideal_path).convert(\"L\")\n",
        "\n",
        "        resize = transforms.Resize((256, 256))\n",
        "        noisy_img = resize(noisy_img)\n",
        "        ideal_img = resize(ideal_img)\n",
        "\n",
        "        if self.transform:\n",
        "            noisy_img = self.transform(noisy_img)\n",
        "            ideal_img = self.transform(ideal_img)\n",
        "\n",
        "        return noisy_img, ideal_img\n",
        "\n",
        "class Generator(nn.Module):\n",
        "    def __init__(self):\n",
        "        super(Generator, self).__init__()\n",
        "        self.main = nn.Sequential(\n",
        "            nn.Linear(256*256, 1024),\n",
        "            nn.ReLU(),\n",
        "\n",
        "            nn.Linear(1024, 512),\n",
        "            nn.ReLU(),\n",
        "\n",
        "            nn.Linear(512, 256),\n",
        "            nn.ReLU(),\n",
        "\n",
        "            nn.Linear(256, 256*256),\n",
        "            nn.Tanh()\n",
        "        )\n",
        "\n",
        "    def forward(self, input):\n",
        "        input = input.view(input.size(0), -1)\n",
        "        return self.main(input).view(input.size(0), 1, 256, 256)\n",
        "\n",
        "class Discriminator(nn.Module):\n",
        "    def __init__(self):\n",
        "        super(Discriminator, self).__init__()\n",
        "        self.main = nn.Sequential(\n",
        "            nn.Linear(256*256, 1024),\n",
        "            nn.LeakyReLU(0.2),\n",
        "\n",
        "            nn.Linear(1024, 512),\n",
        "            nn.LeakyReLU(0.2),\n",
        "\n",
        "            nn.Linear(512, 256),\n",
        "            nn.LeakyReLU(0.2),\n",
        "\n",
        "            nn.Linear(256, 1),\n",
        "            nn.Sigmoid()\n",
        "        )\n",
        "\n",
        "    def forward(self, input):\n",
        "        input = input.view(input.size(0), -1)\n",
        "        return self.main(input)\n",
        "\n",
        "mean = [0.5]\n",
        "std = [0.5]\n",
        "\n",
        "def denormalize(tensor, mean, std):\n",
        "    denorm_tensor = tensor * std[0] + mean[0]\n",
        "    return denorm_tensor\n",
        "\n",
        "transform = transforms.Compose([\n",
        "    transforms.Resize((256, 256)),\n",
        "    transforms.RandomHorizontalFlip(),\n",
        "    transforms.RandomVerticalFlip(),\n",
        "    transforms.RandomRotation(10),\n",
        "    transforms.ToTensor(),\n",
        "    transforms.Normalize((0.5,), (0.5,))\n",
        "])\n",
        "\n",
        "noisy_dir = '/content/drive/My Drive/Colab Notebooks/Noisy'\n",
        "ideal_dir = '/content/drive/My Drive/Colab Notebooks/Clean'\n",
        "dataset = NoisyIdealDataset(noisy_dir, ideal_dir, transform=transform)\n",
        "dataloader = DataLoader(dataset, batch_size=16, shuffle=True)\n",
        "\n",
        "device = torch.device(\"cuda\" if torch.cuda.is_available() else \"cpu\")\n",
        "generator = Generator().to(device)\n",
        "discriminator = Discriminator().to(device)\n",
        "\n",
        "criterion = nn.BCEWithLogitsLoss()\n",
        "optimizer_G = optim.Adam(generator.parameters(), lr=0.0005, betas=(0.5, 0.999))\n",
        "optimizer_D = optim.Adam(discriminator.parameters(), lr=0.0005, betas=(0.5, 0.999))\n",
        "\n",
        "epochs = 400\n",
        "for epoch in range(epochs):\n",
        "    for i, (input_img, target_img) in enumerate(dataloader):\n",
        "        input_img = input_img.to(device)\n",
        "        target_img = target_img.to(device)\n",
        "\n",
        "        optimizer_D.zero_grad()\n",
        "        real_output = discriminator(target_img)\n",
        "        real_loss = criterion(real_output, torch.ones_like(real_output))\n",
        "        real_loss.backward()\n",
        "\n",
        "        fake_img = generator(input_img)\n",
        "        fake_output = discriminator(fake_img.detach())\n",
        "        fake_loss = criterion(fake_output, torch.zeros_like(fake_output))\n",
        "        fake_loss.backward()\n",
        "        optimizer_D.step()\n",
        "\n",
        "        d_loss = real_loss + fake_loss\n",
        "\n",
        "        optimizer_G.zero_grad()\n",
        "        fake_output = discriminator(fake_img)\n",
        "        g_loss = criterion(fake_output, torch.ones_like(fake_output))\n",
        "        g_loss.backward()\n",
        "        optimizer_G.step()\n",
        "\n",
        "    if epoch % 10 == 0:\n",
        "        print(f\"Epoch {epoch}/{epochs} [D loss: {d_loss.item()}] [G loss: {g_loss.item()}]\")\n",
        "\n",
        "    if epoch % 20 == 0:\n",
        "        inverted_img = 1 - denormalize(fake_img, mean, std)\n",
        "        save_image(inverted_img.data[:7], f'/content/drive/My Drive/Colab Notebooks/result/gan_generated_image_{epoch}.png', nrow=4, normalize=False)\n",
        "\n",
        "        fig = plt.figure(figsize=(20, 12))\n",
        "        grid = make_grid(inverted_img, nrow=3)\n",
        "        plt.imshow(grid.permute(1, 2, 0).cpu().numpy(), cmap='gray')\n",
        "        plt.axis('off')\n",
        "        plt.title(f'Generated Images at Epoch {epoch}')\n",
        "        plt.show()\n"
      ]
    }
  ],
  "metadata": {
    "accelerator": "GPU",
    "colab": {
      "collapsed_sections": [
        "OUCckCRcHEMf",
        "GWcDSC6m-EBn"
      ],
      "gpuType": "T4",
      "machine_shape": "hm",
      "provenance": []
    },
    "kernelspec": {
      "display_name": "Python 3",
      "name": "python3"
    },
    "language_info": {
      "name": "python"
    }
  },
  "nbformat": 4,
  "nbformat_minor": 0
}